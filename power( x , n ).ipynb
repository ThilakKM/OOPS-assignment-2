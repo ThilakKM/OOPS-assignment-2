{
 "cells": [
  {
   "cell_type": "code",
   "execution_count": 2,
   "id": "9f0d787f",
   "metadata": {},
   "outputs": [
    {
     "name": "stdout",
     "output_type": "stream",
     "text": [
      "Enter a number : \n",
      "10\n",
      "Enter nth power of times a number should multiply : \n",
      "2\n",
      "power of (10, 2) = 100\n"
     ]
    }
   ],
   "source": [
    "class n_term:\n",
    "    def __init__(self,x,n):\n",
    "        self.x = x\n",
    "        self.n = n\n",
    "        \n",
    "    def n_power(self):\n",
    "        print (f'power of {x,n} = {x**n}')\n",
    "        \n",
    "x = int(input(\"Enter a number : \\n\"))\n",
    "n = int(input(\"Enter nth power of times a number should multiply : \\n\"))\n",
    "obj = n_term(x,n)\n",
    "obj.n_power()"
   ]
  }
 ],
 "metadata": {
  "kernelspec": {
   "display_name": "Python 3 (ipykernel)",
   "language": "python",
   "name": "python3"
  },
  "language_info": {
   "codemirror_mode": {
    "name": "ipython",
    "version": 3
   },
   "file_extension": ".py",
   "mimetype": "text/x-python",
   "name": "python",
   "nbconvert_exporter": "python",
   "pygments_lexer": "ipython3",
   "version": "3.10.2"
  }
 },
 "nbformat": 4,
 "nbformat_minor": 5
}
